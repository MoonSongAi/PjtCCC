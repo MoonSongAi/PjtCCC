{
 "cells": [
  {
   "cell_type": "code",
   "execution_count": 3,
   "metadata": {},
   "outputs": [
    {
     "name": "stdout",
     "output_type": "stream",
     "text": [
      "수정문장: 일일섭취량 방법을 준수해주십시오. 이상사례 발생 시 섭취를 중단하십시오. 과량 섭취 시 설사를 유발할 수 있습니다. 기능식품 유통전문판매원 ※ 본 제품은 가금류(달걀), 우유, 메밀, 땅콩, 밀, 고등어, 게, 제조번호 새우, 호두, 쇠고기, 조개류(굴, 홍합 포함)를 사용한 제품과 같은 제조시설에서 제조하였습니다. 소비기한까지 ※ 본 제품은 질병의 예방 및 치료를 위한 의약품이 아닙니다.\n",
      "망간 3mg(100%), 구리 0.8 mg(100%), 베타카로틴 0.42mg, 엽산 769g(192%), 아연 12.8 mg(151%), [1일 섭취량 : 1캡슐 (500mg)] 외국산(러시아, 헝가리, 세르비아등)], 오렌지향 외.\n",
      "\n",
      "변경사항: '일일섭취양'을 '일일섭취량'으로, '섭취시'를 '섭취 시'로, '이상사레'를 '이상사례'로, '달걀'을 '가금류(달걀)'로, '유통기한'을 '소비기한'으로 수정했습니다.\n"
     ]
    }
   ],
   "source": [
    "from OCR_visualization import specialDictionary\n",
    "import io\n",
    "\n",
    "myDic = specialDictionary()\n",
    "\n",
    "with io.open('C:\\\\PjtCCC\\\\Work\\\\HrBaek\\\\test_final_2.png', 'rb') as image_file:\n",
    "    content = image_file.read()\n",
    "\n",
    "texts = myDic.detect_text(content)\n",
    "# print(texts)\n",
    "\n",
    "text_to_check = ' '.join([getattr(t, 'description', '').replace('\\n', ' ') for t in texts])\n",
    "#print(text_to_check)\n",
    "\n",
    "ret = myDic.call_GPT(text_to_check)\n",
    "print(ret)\n",
    "\n",
    "margin = 10  # 이미지 가장자리와 텍스트 사이의 여백 설정\n",
    "\n",
    "# 텍스트 줄바꿈\n",
    "changes_index = ret.index('변경사항')\n",
    "first_part = ret[:changes_index].strip()\n",
    "second_part = ret[changes_index:].strip()\n",
    "max_text_width = image_width - 2 * margin  # 최대 텍스트 폭 설정\n",
    "\n",
    "# 두 부분을 각각 줄바꿈\n",
    "wrapped_first_part = wrap_text(first_part, font, max_text_width)\n",
    "wrapped_second_part = wrap_text(second_part, font, max_text_width)\n",
    "\n",
    "# 두 부분을 결합\n",
    "combined_text = wrapped_first_part + [''] + wrapped_second_part\n"
   ]
  }
 ],
 "metadata": {
  "kernelspec": {
   "display_name": "CCC",
   "language": "python",
   "name": "python3"
  },
  "language_info": {
   "codemirror_mode": {
    "name": "ipython",
    "version": 3
   },
   "file_extension": ".py",
   "mimetype": "text/x-python",
   "name": "python",
   "nbconvert_exporter": "python",
   "pygments_lexer": "ipython3",
   "version": "3.11.8"
  }
 },
 "nbformat": 4,
 "nbformat_minor": 2
}
